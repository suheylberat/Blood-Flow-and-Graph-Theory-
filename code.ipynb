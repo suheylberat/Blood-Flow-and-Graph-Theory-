{
 "cells": [
  {
   "cell_type": "markdown",
   "metadata": {},
   "source": [
    "PATENT DUCTUS ARTERIOSUS"
   ]
  },
  {
   "cell_type": "markdown",
   "metadata": {},
   "source": [
    "Patent ductus arteriosus (PDA) is an extra blood vessel found in babies before birth and just after birth. In most babies who have an otherwise normal heart, the PDA will shrink and close on its own in the first few days of life. If it stays open longer, it may cause extra blood to flow to the lungs."
   ]
  },
  {
   "cell_type": "markdown",
   "metadata": {},
   "source": [
    "V = [\"superior vena cava (SVC)\", \"inferior vena cava(IVC)\", \"right atrium(RA)\", \"right ventricle(RV)\", \"pulmonary trunk(PT)\",\n",
    "     \"right pulmonary artery(RPA)\", \"left pulmonary artery(LPA)\", \"right lung(RL)\", \"lef lung(LL)\", \"right upper pulmonary vein(RUPV)\",\n",
    "     \"right lower pulmonary vein(RLPV)\", \"left upper pulmonary vein(LUPV)\", \"left lower pulmonary vein(LLPV)\", \"left atrium(LA)\",\n",
    "     \"left ventricle(LV)\", \"ascending aorta(AA)\", \"aortic arch(AOA)\", \"descending aorta(DA)\", \"innominate artery(IA)\", \"left common carotid artery(LCCA)\",\n",
    "     \"left subclavian artery(LSA)\", \"right common carotid artery(RCCA)\", \"right subclavian artery(RSA)\", \"systemic circulation target organs(SCTO)\", \"Ductus Arterious(DA\")]"
   ]
  },
  {
   "cell_type": "code",
   "execution_count": 1,
   "metadata": {},
   "outputs": [
    {
     "name": "stdout",
     "output_type": "stream",
     "text": [
      "[0, 1, 0, 0, 0, 0, 0, 0, 0, 0, 0, 0, 0, 0, 0, 0, 0, 0, 0, 0, 0, 0, 0, 0]\n",
      "[0, 0, 1, 1, 0, 0, 1, 0, 0, 0, 1, 0, 0, 0, 0, 0, 0, 0, 0, 0, 0, 0, 0, 0]\n",
      "[0, 0, 0, 0, 0, 0, 0, 0, 1, 0, 0, 1, 0, 0, 0, 0, 0, 1, 0, 0, 1, 0, 1, 0]\n",
      "[0, 0, 0, 0, 0, 0, 0, 0, 0, 0, 0, 0, 0, 0, 0, 1, 0, 0, 0, 1, 0, 0, 0, 0]\n",
      "[0, 0, 0, 0, 0, 0, 0, 0, 0, 0, 0, 0, 0, 0, 1, 0, 0, 0, 0, 0, 0, 0, 0, 0]\n",
      "[0, 0, 0, 0, 0, 0, 0, 0, 0, 0, 0, 0, 1, 0, 0, 0, 0, 0, 0, 0, 0, 0, 0, 0]\n",
      "[0, 0, 0, 0, 0, 0, 0, 0, 0, 0, 0, 0, 0, 0, 0, 0, 0, 0, 0, 0, 0, 0, 1, 0]\n",
      "[0, 0, 0, 0, 0, 0, 0, 0, 1, 0, 0, 1, 0, 0, 0, 0, 0, 0, 0, 0, 0, 0, 0, 0]\n",
      "[0, 0, 0, 0, 0, 1, 0, 0, 0, 0, 0, 0, 0, 0, 0, 0, 0, 0, 0, 0, 0, 0, 0, 0]\n",
      "[0, 0, 0, 0, 0, 0, 0, 1, 0, 0, 0, 0, 0, 0, 0, 0, 0, 0, 0, 0, 0, 0, 0, 0]\n",
      "[0, 0, 0, 0, 0, 0, 0, 0, 0, 0, 0, 0, 0, 0, 0, 0, 0, 0, 0, 0, 0, 0, 1, 0]\n",
      "[0, 0, 0, 0, 0, 1, 0, 0, 0, 0, 0, 0, 0, 0, 0, 0, 0, 0, 0, 0, 0, 0, 0, 0]\n",
      "[1, 0, 0, 0, 0, 0, 0, 0, 0, 0, 0, 0, 0, 0, 0, 0, 0, 0, 0, 0, 0, 0, 0, 0]\n",
      "[0, 0, 0, 0, 0, 0, 0, 0, 0, 1, 0, 0, 0, 0, 0, 0, 0, 0, 1, 0, 0, 0, 0, 0]\n",
      "[0, 0, 0, 0, 0, 0, 0, 0, 0, 0, 0, 0, 0, 0, 0, 0, 0, 0, 0, 0, 0, 1, 0, 0]\n",
      "[0, 0, 0, 0, 0, 0, 0, 0, 0, 0, 0, 0, 0, 0, 0, 0, 0, 0, 0, 0, 0, 0, 1, 0]\n",
      "[0, 0, 0, 0, 0, 0, 0, 0, 0, 0, 0, 0, 0, 0, 0, 0, 0, 1, 0, 0, 1, 0, 0, 0]\n",
      "[0, 0, 0, 0, 0, 1, 0, 0, 0, 0, 0, 0, 0, 0, 0, 0, 0, 0, 0, 0, 0, 0, 0, 0]\n",
      "[0, 0, 0, 0, 0, 0, 0, 0, 0, 0, 0, 0, 0, 0, 0, 0, 1, 0, 0, 0, 0, 0, 0, 0]\n",
      "[0, 0, 0, 0, 0, 0, 0, 0, 0, 0, 0, 0, 0, 0, 0, 0, 0, 0, 0, 0, 0, 0, 1, 0]\n",
      "[0, 0, 0, 0, 0, 1, 0, 0, 0, 0, 0, 0, 0, 0, 0, 0, 0, 0, 0, 0, 0, 0, 0, 0]\n",
      "[0, 0, 0, 0, 0, 0, 0, 0, 0, 0, 0, 0, 0, 1, 0, 0, 0, 0, 0, 0, 0, 0, 0, 0]\n",
      "[0, 0, 0, 0, 1, 0, 0, 0, 0, 0, 0, 0, 0, 0, 0, 0, 0, 0, 0, 0, 0, 0, 0, 1]\n",
      "[0, 0, 0, 0, 0, 0, 0, 0, 0, 0, 0, 0, 0, 0, 1, 0, 0, 0, 0, 0, 0, 0, 0, 0]\n"
     ]
    }
   ],
   "source": [
    "F = {\"SVC\", \"IVC\", \"RA\", \"RV\", \"PT\",\n",
    "     \"RPA\", \"LPA\", \"RL\", \"LL\", \"RUPV\",\n",
    "     \"RLPV\", \"DA\",\"LUPV\", \"LLPV\", \"LA\",\n",
    "     \"LV\", \"AA\", \"AOA\", \"DA\", \"IA\", \"LCCA\",\n",
    "     \"LSA\", \"RCCA\", \"RSA\", \"SCTO\"} \n",
    "\n",
    "# Kümedeki düğümleri indekslere atama\n",
    "node_indices = {node: index for index, node in enumerate(sorted(F))}\n",
    "\n",
    "# NxN boyutunda bir matris oluştur, tüm elemanları sıfır yap\n",
    "num_nodes = len(F) #damarları sayıyor\n",
    "matrix = [[0] * num_nodes for _ in range(num_nodes)] #damarlara göre kaça kaçlık bir matrix oluşturulacağını hesaplıyor\n",
    "\n",
    "# Kümedeki düğümler arasındaki kenarları matrise ekleme\n",
    "edges =[(\"SVC\", \"RA\"), (\"IVC\", \"RA\"), (\"RA\",\"RV\"), (\"RV\",\"PT\"),  (\"PT\",\"RPA\"),  (\"PT\",\"LPA\"), (\"RPA\",\"RL\"), (\"LPA\",\"LL\"), \n",
    "     (\"RL\",\"RUPV\"), (\"RL\",\"RLPV\"), (\"RL\",\"RUPV\"), (\"LL\",\"LUPV\"), (\"LL\",\"LLPV\"), (\"LLPV\",\"LA\"), \n",
    "     (\"LUPV\",\"LA\"), (\"RUPV\",\"LA\"), (\"RLPV\",\"LA\"), (\"LA\",\"LV\"), (\"LV\",\"AA\"), (\"AA\",\"AOA\"), \n",
    "     (\"AOA\",\"IA\"), (\"AOA\", \"DA\"), (\"DA\", \"RLPV\"), (\"DA\", \"RUPV\"), (\"DA\", \"LUPV\"), (\"DA\", \"LLPV\"),(\"IA\",\"RSA\"), (\"IA\",\"RCCA\"), (\"AOA\",\"LCCA\"), (\"AOA\",\"LSA\"), (\"AOA\",\"DA\"),\n",
    "     (\"DA\",\"SCTO\"), (\"LSA\",\"SCTO\"), (\"LCCA\",\"SCTO\"), (\"RCCA\",\"SCTO\"), (\"RSA\",\"SCTO\"),\n",
    "      (\"SCTO\",\"IVC\"), (\"SCTO\",\"SVC\") ]\n",
    "        \n",
    "\n",
    "for edge in edges: # örneğin svc,ra çiftini ele alıyoruz. \n",
    "    node1, node2 = edge #bu satır çiftin içindeki değerleri nodelara atar. node1 = svc , node2= ra\n",
    "    index1, index2 = node_indices[node1], node_indices[node2] #bu satır ilgili nodeların matrixteki yerlerini bulur ve onları index'lere atar.\n",
    "    matrix[index1][index2] = 1 #matrixte svc ve ra'nın 0 olduğu kısmı bulup orayı 1 yapıyor.\n",
    "\n",
    "for row in matrix:\n",
    "    print(row)\n"
   ]
  },
  {
   "cell_type": "code",
   "execution_count": 2,
   "metadata": {},
   "outputs": [
    {
     "name": "stdout",
     "output_type": "stream",
     "text": [
      "Index of SVC: 23\n",
      "Index of RA: 14\n"
     ]
    }
   ],
   "source": [
    "# node_indices to find the index of a node\n",
    "index_svc = node_indices[\"SVC\"]\n",
    "index_ra = node_indices[\"RA\"]\n",
    "\n",
    "print(\"Index of SVC:\", index_svc)\n",
    "print(\"Index of RA:\", index_ra)\n"
   ]
  }
 ],
 "metadata": {
  "kernelspec": {
   "display_name": "Python 3",
   "language": "python",
   "name": "python3"
  },
  "language_info": {
   "codemirror_mode": {
    "name": "ipython",
    "version": 3
   },
   "file_extension": ".py",
   "mimetype": "text/x-python",
   "name": "python",
   "nbconvert_exporter": "python",
   "pygments_lexer": "ipython3",
   "version": "3.11.7"
  }
 },
 "nbformat": 4,
 "nbformat_minor": 2
}
